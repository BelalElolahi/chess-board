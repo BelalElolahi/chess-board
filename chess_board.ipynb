{
 "cells": [
  {
   "cell_type": "code",
   "execution_count": null,
   "metadata": {},
   "outputs": [],
   "source": [
    "import numpy as np\n",
    "\n",
    "%matplotlib inline\n",
    "import matplotlib.pyplot as plt"
   ]
  },
  {
   "cell_type": "code",
   "execution_count": null,
   "metadata": {},
   "outputs": [],
   "source": []
  },
  {
   "cell_type": "code",
   "execution_count": null,
   "metadata": {},
   "outputs": [],
   "source": [
    "class ChessBoard:\n",
    "    red = [1,0,0]\n",
    "    blue = [0,0,1]\n",
    "    def __init__(self):\n",
    "        self.board = np.ones([8,8,3])\n",
    "        self.red_co =[]\n",
    "        self.blue_co =[]\n",
    "        for i in np.ndindex(8,8):\n",
    "            row = i[0]\n",
    "            col = i[1]\n",
    "            if row%2 != col%2:\n",
    "                self.board[row, col] = [0,0,0]\n",
    "            print(i, self.board[i])\n",
    "    \n",
    "    def add_red(self, row, col):\n",
    "        self.board[row,col]=self.red\n",
    "        self.red_co =[row,col]\n",
    "    def add_blue(self, row, col):\n",
    "        self.board[row,col]=self.blue\n",
    "        \n",
    "        self.blue_co=[row ,col]\n",
    "    \n",
    "    def render(self):\n",
    "        plt.imshow(self.board)\n",
    "    \n",
    "    def is_under_attack(self):\n",
    "        if self.is_vertival(self.red_co , self.blue_co):\n",
    "            return True\n",
    "        if self.is_horizantal(self.red_co , self.blue_co):\n",
    "            return True\n",
    "        if self.is_diagonal(self.red_co , self.blue_co):\n",
    "            return True\n",
    "        return False\n",
    "    \n",
    "    def is_vertival(self,cell1,cell2):\n",
    "        if  cell1[1] == cell2[1]:\n",
    "            return True \n",
    "        else : \n",
    "            return False\n",
    "    def is_horizantal(self,cell1,cell2):\n",
    "         if  cell1[0] == cell2[0]:\n",
    "            return True \n",
    "         return False\n",
    "    def is_diagonal(self,cell1,cell2):\n",
    "        if abs(cell1[0] - cell2[0]) == abs(cell1[1] - cell2[1]):\n",
    "            return True\n",
    "        return False \n",
    "        \n",
    "        \n",
    "            "
   ]
  },
  {
   "cell_type": "code",
   "execution_count": null,
   "metadata": {},
   "outputs": [],
   "source": [
    "\n",
    "chess_board = ChessBoard()\n"
   ]
  },
  {
   "cell_type": "code",
   "execution_count": null,
   "metadata": {},
   "outputs": [],
   "source": [
    "chess_board.add_red(6,2)\n",
    "chess_board.add_blue(4,4)\n",
    "chess_board.render()"
   ]
  },
  {
   "cell_type": "code",
   "execution_count": null,
   "metadata": {},
   "outputs": [],
   "source": []
  },
  {
   "cell_type": "code",
   "execution_count": null,
   "metadata": {},
   "outputs": [],
   "source": [
    "chess_board.is_under_attack()"
   ]
  }
 ],
 "metadata": {
  "interpreter": {
   "hash": "0dda09140a1fd88ea879080486bbeb4c81cc74626dc51b563162033e734c6912"
  },
  "kernelspec": {
   "display_name": "Python 3.10.0 64-bit",
   "language": "python",
   "name": "python3"
  },
  "language_info": {
   "name": "python",
   "version": "3.10.0"
  },
  "orig_nbformat": 4
 },
 "nbformat": 4,
 "nbformat_minor": 2
}
